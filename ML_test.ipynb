{
 "cells": [
  {
   "cell_type": "code",
   "execution_count": 1,
   "id": "25d8b245-5831-4138-9561-9e74eab41b4b",
   "metadata": {},
   "outputs": [
    {
     "name": "stderr",
     "output_type": "stream",
     "text": [
      "/Users/start/opt/anaconda3/envs/shap/lib/python3.9/site-packages/tqdm/auto.py:21: TqdmWarning: IProgress not found. Please update jupyter and ipywidgets. See https://ipywidgets.readthedocs.io/en/stable/user_install.html\n",
      "  from .autonotebook import tqdm as notebook_tqdm\n"
     ]
    }
   ],
   "source": [
    "import pandas as pd\n",
    "import numpy as np\n",
    "\n",
    "from sklearn.model_selection import train_test_split, GridSearchCV\n",
    "from sklearn.linear_model import LogisticRegression\n",
    "from sklearn.tree import DecisionTreeClassifier\n",
    "from sklearn.ensemble import RandomForestClassifier, GradientBoostingClassifier\n",
    "from sklearn.svm import SVC\n",
    "from sklearn.naive_bayes import GaussianNB\n",
    "from sklearn.neural_network import MLPClassifier\n",
    "from sklearn.metrics import accuracy_score\n",
    "\n",
    "\n",
    "import shap\n",
    "from ucimlrepo import fetch_ucirepo \n"
   ]
  },
  {
   "cell_type": "markdown",
   "id": "f353ded4-4cec-4e1f-9b19-24f7501df35a",
   "metadata": {},
   "source": [
    "## **1.Data Undestanding**"
   ]
  },
  {
   "cell_type": "markdown",
   "id": "1d441fd6",
   "metadata": {},
   "source": [
    "#### 1.1 Dataset Overview"
   ]
  },
  {
   "cell_type": "code",
   "execution_count": 2,
   "id": "d28751e8-8c6c-48ed-b17d-cc0788905531",
   "metadata": {
    "scrolled": true
   },
   "outputs": [],
   "source": [
    "# fetch dataset \n",
    "cdc_diabetes_health_indicators = fetch_ucirepo(id=891) \n",
    "\n",
    "# data (as pandas dataframes) \n",
    "X = cdc_diabetes_health_indicators.data.features \n",
    "y = cdc_diabetes_health_indicators.data.targets \n"
   ]
  },
  {
   "cell_type": "code",
   "execution_count": 3,
   "id": "f56ce7be",
   "metadata": {},
   "outputs": [],
   "source": [
    "# Remove duplicate rows\n",
    "combined = pd.concat([X, y], axis=1).drop_duplicates()\n",
    "\n",
    "# Check for identical X with different y and remove them\n",
    "inconsistent_indices = combined[combined.duplicated(subset=combined.columns[:-1], keep=False) & combined.duplicated(subset=[combined.columns[-1]], keep=False)].index\n",
    "if not inconsistent_indices.empty:\n",
    "    combined = combined.drop(inconsistent_indices)\n",
    "\n",
    "# Separate features and target after cleaning\n",
    "X = combined.iloc[:, :-1]\n",
    "y = pd.DataFrame(combined.iloc[:, -1], columns=['Diabetes_binary'])"
   ]
  },
  {
   "cell_type": "code",
   "execution_count": 4,
   "id": "67d5e774-b738-4289-aeaa-1d48da6cd3ef",
   "metadata": {},
   "outputs": [],
   "source": [
    "X_train, X_test, y_train, y_test = train_test_split(X, y, test_size=0.2, random_state=0)"
   ]
  },
  {
   "cell_type": "code",
   "execution_count": 5,
   "id": "67a24747",
   "metadata": {},
   "outputs": [],
   "source": [
    "# Reshape y_train and y_test to avoid DataConversionWarning\n",
    "y_train = np.ravel(y_train)\n",
    "y_test = np.ravel(y_test)"
   ]
  },
  {
   "cell_type": "code",
   "execution_count": 6,
   "id": "f1817f64",
   "metadata": {},
   "outputs": [
    {
     "name": "stdout",
     "output_type": "stream",
     "text": [
      "Best Logistic Regression Params: {'C': 0.01, 'solver': 'lbfgs'}\n",
      "Logistic Regression Accuracy: 0.855132651483355\n"
     ]
    }
   ],
   "source": [
    "# Logistic Regression\n",
    "lr = LogisticRegression(max_iter=1000)\n",
    "lr_params = {'C': [0.01, 0.1, 1, 10, 100], 'solver': ['liblinear', 'lbfgs']}\n",
    "lr_grid = GridSearchCV(lr, lr_params, cv=5, scoring='accuracy')\n",
    "lr_grid.fit(X_train, y_train)\n",
    "lr_accuracy = accuracy_score(y_test, lr_grid.best_estimator_.predict(X_test))\n",
    "print(\"Best Logistic Regression Params:\", lr_grid.best_params_)\n",
    "print(\"Logistic Regression Accuracy:\", lr_accuracy)"
   ]
  },
  {
   "cell_type": "code",
   "execution_count": 7,
   "id": "853459c0",
   "metadata": {},
   "outputs": [
    {
     "name": "stdout",
     "output_type": "stream",
     "text": [
      "Best Decision Tree Params: {'max_depth': 5, 'min_samples_split': 2}\n",
      "Decision Tree Accuracy: 0.8571870374870221\n"
     ]
    }
   ],
   "source": [
    "# Decision Tree\n",
    "dt = DecisionTreeClassifier()\n",
    "dt_params = {'max_depth': [5, 10, 15, 20, None], 'min_samples_split': [2, 5, 10]}\n",
    "dt_grid = GridSearchCV(dt, dt_params, cv=5, scoring='accuracy')\n",
    "dt_grid.fit(X_train, y_train)\n",
    "dt_accuracy = accuracy_score(y_test, dt_grid.best_estimator_.predict(X_test))\n",
    "print(\"Best Decision Tree Params:\", dt_grid.best_params_)\n",
    "print(\"Decision Tree Accuracy:\", dt_accuracy)\n"
   ]
  },
  {
   "cell_type": "code",
   "execution_count": 8,
   "id": "0a699e7d",
   "metadata": {},
   "outputs": [
    {
     "name": "stdout",
     "output_type": "stream",
     "text": [
      "Best Random Forest Params: {'max_depth': 15, 'min_samples_split': 10, 'n_estimators': 200}\n",
      "Random Forest Accuracy: 0.8586008085002982\n"
     ]
    }
   ],
   "source": [
    "# Random Forest\n",
    "rf = RandomForestClassifier()\n",
    "rf_params = {'n_estimators': [50, 100, 200], 'max_depth': [5, 10, 15, None], 'min_samples_split': [2, 5, 10]}\n",
    "rf_grid = GridSearchCV(rf, rf_params, cv=5, scoring='accuracy')\n",
    "rf_grid.fit(X_train, y_train)\n",
    "rf_accuracy = accuracy_score(y_test, rf_grid.best_estimator_.predict(X_test))\n",
    "print(\"Best Random Forest Params:\", rf_grid.best_params_)\n",
    "print(\"Random Forest Accuracy:\", rf_accuracy)"
   ]
  },
  {
   "cell_type": "code",
   "execution_count": 9,
   "id": "d4218677",
   "metadata": {},
   "outputs": [
    {
     "name": "stdout",
     "output_type": "stream",
     "text": [
      "Best GBT Params: {'learning_rate': 0.2, 'max_depth': 3, 'n_estimators': 200}\n",
      "GBT Accuracy: 0.8580264640261548\n"
     ]
    }
   ],
   "source": [
    "# Gradient-Boosted Tree\n",
    "gbt = GradientBoostingClassifier()\n",
    "gbt_params = {'n_estimators': [50, 100, 200], 'learning_rate': [0.01, 0.1, 0.2], 'max_depth': [3, 5, 7]}\n",
    "gbt_grid = GridSearchCV(gbt, gbt_params, cv=5, scoring='accuracy')\n",
    "gbt_grid.fit(X_train, y_train)\n",
    "gbt_accuracy = accuracy_score(y_test, gbt_grid.best_estimator_.predict(X_test))\n",
    "print(\"Best GBT Params:\", gbt_grid.best_params_)\n",
    "print(\"GBT Accuracy:\", gbt_accuracy)"
   ]
  },
  {
   "cell_type": "code",
   "execution_count": null,
   "id": "cfd44209",
   "metadata": {},
   "outputs": [],
   "source": [
    "# Support Vector Machine\n",
    "# svm = SVC()\n",
    "# svm_params = {'C': [0.1, 1, 10], 'kernel': ['linear', 'rbf'], 'gamma': ['scale', 'auto']}\n",
    "# svm_grid = GridSearchCV(svm, svm_params, cv=5, scoring='accuracy')\n",
    "# svm_grid.fit(X_train, y_train)\n",
    "# svm_accuracy = accuracy_score(y_test, svm_grid.best_estimator_.predict(X_test))\n",
    "# print(\"Best SVM Params:\", svm_grid.best_params_)\n",
    "# print(\"SVM Accuracy:\", svm_accuracy)"
   ]
  },
  {
   "cell_type": "code",
   "execution_count": 6,
   "id": "c3ac3cbf",
   "metadata": {},
   "outputs": [
    {
     "name": "stdout",
     "output_type": "stream",
     "text": [
      "Naive Bayes Accuracy: 0.7640327818153704\n"
     ]
    }
   ],
   "source": [
    "# Naive Bayes\n",
    "nb = GaussianNB()\n",
    "nb.fit(X_train, y_train)\n",
    "nb_accuracy = accuracy_score(y_test, nb.predict(X_test))\n",
    "print(\"Naive Bayes Accuracy:\", nb_accuracy)"
   ]
  },
  {
   "cell_type": "code",
   "execution_count": 7,
   "id": "83a32ef0",
   "metadata": {},
   "outputs": [
    {
     "name": "stdout",
     "output_type": "stream",
     "text": [
      "Best MLP Params: {'activation': 'tanh', 'alpha': 0.01, 'hidden_layer_sizes': (50,)}\n",
      "MLP Accuracy: 0.858689169188628\n"
     ]
    }
   ],
   "source": [
    "\n",
    "# Neural Network (MLP)\n",
    "mlp = MLPClassifier(max_iter=1000)\n",
    "mlp_params = {'hidden_layer_sizes': [(50,), (100,), (100, 50)], 'activation': ['relu', 'tanh'], 'alpha': [0.0001, 0.001, 0.01]}\n",
    "mlp_grid = GridSearchCV(mlp, mlp_params, cv=5, scoring='accuracy')\n",
    "mlp_grid.fit(X_train, y_train)\n",
    "mlp_accuracy = accuracy_score(y_test, mlp_grid.best_estimator_.predict(X_test))\n",
    "print(\"Best MLP Params:\", mlp_grid.best_params_)\n",
    "print(\"MLP Accuracy:\", mlp_accuracy)"
   ]
  },
  {
   "cell_type": "code",
   "execution_count": 9,
   "id": "a29ffcb4",
   "metadata": {},
   "outputs": [
    {
     "name": "stdout",
     "output_type": "stream",
     "text": [
      "Best Model: Neural Network (MLP) with Accuracy: 0.858689169188628\n"
     ]
    }
   ],
   "source": [
    "# Selecting the best model\n",
    "accuracies = {\n",
    "    # 'Logistic Regression': lr_accuracy,\n",
    "    # 'Decision Tree': dt_accuracy,\n",
    "    # 'Random Forest': rf_accuracy,\n",
    "    # 'Gradient-Boosted Tree': gbt_accuracy,\n",
    "    # 'Support Vector Machine': svm_accuracy,\n",
    "    'Naive Bayes': nb_accuracy,\n",
    "    'Neural Network (MLP)': mlp_accuracy\n",
    "}\n",
    "\n",
    "best_model = max(accuracies, key=accuracies.get)\n",
    "print(\"Best Model:\", best_model, \"with Accuracy:\", accuracies[best_model])"
   ]
  }
 ],
 "metadata": {
  "kernelspec": {
   "display_name": "shap",
   "language": "python",
   "name": "python3"
  },
  "language_info": {
   "codemirror_mode": {
    "name": "ipython",
    "version": 3
   },
   "file_extension": ".py",
   "mimetype": "text/x-python",
   "name": "python",
   "nbconvert_exporter": "python",
   "pygments_lexer": "ipython3",
   "version": "3.9.13"
  }
 },
 "nbformat": 4,
 "nbformat_minor": 5
}
